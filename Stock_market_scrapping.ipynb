{
 "cells": [
  {
   "cell_type": "markdown",
   "metadata": {},
   "source": [
    "# Stock Market Data Scrapping"
   ]
  },
  {
   "cell_type": "code",
   "execution_count": 1,
   "metadata": {},
   "outputs": [],
   "source": [
    "# Import the libraries:\n",
    "import pandas as pd\n",
    "import yfinance as yf"
   ]
  },
  {
   "cell_type": "markdown",
   "metadata": {},
   "source": [
    "## APPLE Stock data Scrapper "
   ]
  },
  {
   "cell_type": "code",
   "execution_count": 3,
   "metadata": {},
   "outputs": [
    {
     "data": {
      "text/plain": [
       "yfinance.Ticker object <AAPL>"
      ]
     },
     "execution_count": 3,
     "metadata": {},
     "output_type": "execute_result"
    }
   ],
   "source": [
    "#Define the ticker keys words:\n",
    "tickerSymbol = \"AAPL\"\n",
    "tickerData = yf.Ticker(tickerSymbol)\n",
    "tickerData"
   ]
  },
  {
   "cell_type": "code",
   "execution_count": 9,
   "metadata": {},
   "outputs": [
    {
     "data": {
      "text/plain": [
       "np.float64(226.0500030517578)"
      ]
     },
     "execution_count": 9,
     "metadata": {},
     "output_type": "execute_result"
    }
   ],
   "source": [
    "#Data info:\n",
    "#tickerData.info\n",
    "#Historical prices of this ticker:\n",
    "tickerDf = tickerData.history(period=\"1d\", start='2010-01-01', end='2024-08-18')\n",
    "#Get the last closing price of this ticker:\n",
    "tickerDf['Close'].iloc[-1]"
   ]
  },
  {
   "cell_type": "code",
   "execution_count": 10,
   "metadata": {},
   "outputs": [
    {
     "data": {
      "text/html": [
       "<div>\n",
       "<style scoped>\n",
       "    .dataframe tbody tr th:only-of-type {\n",
       "        vertical-align: middle;\n",
       "    }\n",
       "\n",
       "    .dataframe tbody tr th {\n",
       "        vertical-align: top;\n",
       "    }\n",
       "\n",
       "    .dataframe thead th {\n",
       "        text-align: right;\n",
       "    }\n",
       "</style>\n",
       "<table border=\"1\" class=\"dataframe\">\n",
       "  <thead>\n",
       "    <tr style=\"text-align: right;\">\n",
       "      <th></th>\n",
       "      <th>Open</th>\n",
       "      <th>High</th>\n",
       "      <th>Low</th>\n",
       "      <th>Close</th>\n",
       "      <th>Volume</th>\n",
       "      <th>Dividends</th>\n",
       "      <th>Stock Splits</th>\n",
       "    </tr>\n",
       "    <tr>\n",
       "      <th>Date</th>\n",
       "      <th></th>\n",
       "      <th></th>\n",
       "      <th></th>\n",
       "      <th></th>\n",
       "      <th></th>\n",
       "      <th></th>\n",
       "      <th></th>\n",
       "    </tr>\n",
       "  </thead>\n",
       "  <tbody>\n",
       "    <tr>\n",
       "      <th>2010-01-04 00:00:00-05:00</th>\n",
       "      <td>6.437013</td>\n",
       "      <td>6.469284</td>\n",
       "      <td>6.405345</td>\n",
       "      <td>6.454506</td>\n",
       "      <td>493729600</td>\n",
       "      <td>0.0</td>\n",
       "      <td>0.0</td>\n",
       "    </tr>\n",
       "    <tr>\n",
       "      <th>2010-01-05 00:00:00-05:00</th>\n",
       "      <td>6.472300</td>\n",
       "      <td>6.502158</td>\n",
       "      <td>6.431583</td>\n",
       "      <td>6.465664</td>\n",
       "      <td>601904800</td>\n",
       "      <td>0.0</td>\n",
       "      <td>0.0</td>\n",
       "    </tr>\n",
       "    <tr>\n",
       "      <th>2010-01-06 00:00:00-05:00</th>\n",
       "      <td>6.465664</td>\n",
       "      <td>6.491300</td>\n",
       "      <td>6.356183</td>\n",
       "      <td>6.362819</td>\n",
       "      <td>552160000</td>\n",
       "      <td>0.0</td>\n",
       "      <td>0.0</td>\n",
       "    </tr>\n",
       "    <tr>\n",
       "      <th>2010-01-07 00:00:00-05:00</th>\n",
       "      <td>6.386344</td>\n",
       "      <td>6.393884</td>\n",
       "      <td>6.304912</td>\n",
       "      <td>6.351057</td>\n",
       "      <td>477131200</td>\n",
       "      <td>0.0</td>\n",
       "      <td>0.0</td>\n",
       "    </tr>\n",
       "    <tr>\n",
       "      <th>2010-01-08 00:00:00-05:00</th>\n",
       "      <td>6.342612</td>\n",
       "      <td>6.393884</td>\n",
       "      <td>6.305214</td>\n",
       "      <td>6.393280</td>\n",
       "      <td>447610800</td>\n",
       "      <td>0.0</td>\n",
       "      <td>0.0</td>\n",
       "    </tr>\n",
       "  </tbody>\n",
       "</table>\n",
       "</div>"
      ],
      "text/plain": [
       "                               Open      High       Low     Close     Volume  \\\n",
       "Date                                                                           \n",
       "2010-01-04 00:00:00-05:00  6.437013  6.469284  6.405345  6.454506  493729600   \n",
       "2010-01-05 00:00:00-05:00  6.472300  6.502158  6.431583  6.465664  601904800   \n",
       "2010-01-06 00:00:00-05:00  6.465664  6.491300  6.356183  6.362819  552160000   \n",
       "2010-01-07 00:00:00-05:00  6.386344  6.393884  6.304912  6.351057  477131200   \n",
       "2010-01-08 00:00:00-05:00  6.342612  6.393884  6.305214  6.393280  447610800   \n",
       "\n",
       "                           Dividends  Stock Splits  \n",
       "Date                                                \n",
       "2010-01-04 00:00:00-05:00        0.0           0.0  \n",
       "2010-01-05 00:00:00-05:00        0.0           0.0  \n",
       "2010-01-06 00:00:00-05:00        0.0           0.0  \n",
       "2010-01-07 00:00:00-05:00        0.0           0.0  \n",
       "2010-01-08 00:00:00-05:00        0.0           0.0  "
      ]
     },
     "execution_count": 10,
     "metadata": {},
     "output_type": "execute_result"
    }
   ],
   "source": [
    "tickerDf.head()"
   ]
  },
  {
   "cell_type": "code",
   "execution_count": 11,
   "metadata": {},
   "outputs": [
    {
     "name": "stdout",
     "output_type": "stream",
     "text": [
      "(3680, 7)\n"
     ]
    }
   ],
   "source": [
    "print(tickerDf.shape)"
   ]
  },
  {
   "cell_type": "code",
   "execution_count": 12,
   "metadata": {},
   "outputs": [],
   "source": [
    "#Import the libraries:\n",
    "import pandas as pd\n",
    "import yfinance as yf\n",
    "import datetime as dt\n",
    "from datetime import date, timedelta"
   ]
  },
  {
   "cell_type": "markdown",
   "metadata": {},
   "source": [
    "## TSLA Stock Market Scrapper"
   ]
  },
  {
   "cell_type": "code",
   "execution_count": 20,
   "metadata": {},
   "outputs": [
    {
     "data": {
      "text/html": [
       "<div>\n",
       "<style scoped>\n",
       "    .dataframe tbody tr th:only-of-type {\n",
       "        vertical-align: middle;\n",
       "    }\n",
       "\n",
       "    .dataframe tbody tr th {\n",
       "        vertical-align: top;\n",
       "    }\n",
       "\n",
       "    .dataframe thead th {\n",
       "        text-align: right;\n",
       "    }\n",
       "</style>\n",
       "<table border=\"1\" class=\"dataframe\">\n",
       "  <thead>\n",
       "    <tr style=\"text-align: right;\">\n",
       "      <th></th>\n",
       "      <th>Open</th>\n",
       "      <th>High</th>\n",
       "      <th>Low</th>\n",
       "      <th>Close</th>\n",
       "      <th>Volume</th>\n",
       "      <th>Dividends</th>\n",
       "      <th>Stock Splits</th>\n",
       "    </tr>\n",
       "    <tr>\n",
       "      <th>Date</th>\n",
       "      <th></th>\n",
       "      <th></th>\n",
       "      <th></th>\n",
       "      <th></th>\n",
       "      <th></th>\n",
       "      <th></th>\n",
       "      <th></th>\n",
       "    </tr>\n",
       "  </thead>\n",
       "  <tbody>\n",
       "    <tr>\n",
       "      <th>2023-08-21 00:00:00-04:00</th>\n",
       "      <td>221.550003</td>\n",
       "      <td>232.130005</td>\n",
       "      <td>220.580002</td>\n",
       "      <td>231.279999</td>\n",
       "      <td>135702700</td>\n",
       "      <td>0.0</td>\n",
       "      <td>0.0</td>\n",
       "    </tr>\n",
       "    <tr>\n",
       "      <th>2023-08-22 00:00:00-04:00</th>\n",
       "      <td>240.250000</td>\n",
       "      <td>240.820007</td>\n",
       "      <td>229.550003</td>\n",
       "      <td>233.190002</td>\n",
       "      <td>130597900</td>\n",
       "      <td>0.0</td>\n",
       "      <td>0.0</td>\n",
       "    </tr>\n",
       "    <tr>\n",
       "      <th>2023-08-23 00:00:00-04:00</th>\n",
       "      <td>229.339996</td>\n",
       "      <td>238.979996</td>\n",
       "      <td>229.289993</td>\n",
       "      <td>236.860001</td>\n",
       "      <td>101077600</td>\n",
       "      <td>0.0</td>\n",
       "      <td>0.0</td>\n",
       "    </tr>\n",
       "    <tr>\n",
       "      <th>2023-08-24 00:00:00-04:00</th>\n",
       "      <td>238.660004</td>\n",
       "      <td>238.919998</td>\n",
       "      <td>228.179993</td>\n",
       "      <td>230.039993</td>\n",
       "      <td>99777400</td>\n",
       "      <td>0.0</td>\n",
       "      <td>0.0</td>\n",
       "    </tr>\n",
       "    <tr>\n",
       "      <th>2023-08-25 00:00:00-04:00</th>\n",
       "      <td>231.309998</td>\n",
       "      <td>239.000000</td>\n",
       "      <td>230.350006</td>\n",
       "      <td>238.589996</td>\n",
       "      <td>106612200</td>\n",
       "      <td>0.0</td>\n",
       "      <td>0.0</td>\n",
       "    </tr>\n",
       "  </tbody>\n",
       "</table>\n",
       "</div>"
      ],
      "text/plain": [
       "                                 Open        High         Low       Close  \\\n",
       "Date                                                                        \n",
       "2023-08-21 00:00:00-04:00  221.550003  232.130005  220.580002  231.279999   \n",
       "2023-08-22 00:00:00-04:00  240.250000  240.820007  229.550003  233.190002   \n",
       "2023-08-23 00:00:00-04:00  229.339996  238.979996  229.289993  236.860001   \n",
       "2023-08-24 00:00:00-04:00  238.660004  238.919998  228.179993  230.039993   \n",
       "2023-08-25 00:00:00-04:00  231.309998  239.000000  230.350006  238.589996   \n",
       "\n",
       "                              Volume  Dividends  Stock Splits  \n",
       "Date                                                           \n",
       "2023-08-21 00:00:00-04:00  135702700        0.0           0.0  \n",
       "2023-08-22 00:00:00-04:00  130597900        0.0           0.0  \n",
       "2023-08-23 00:00:00-04:00  101077600        0.0           0.0  \n",
       "2023-08-24 00:00:00-04:00   99777400        0.0           0.0  \n",
       "2023-08-25 00:00:00-04:00  106612200        0.0           0.0  "
      ]
     },
     "execution_count": 20,
     "metadata": {},
     "output_type": "execute_result"
    }
   ],
   "source": [
    "today = date.today()\n",
    "d1 = today.strftime(\"%Y-%m-%d\")\n",
    "d1\n",
    "\n",
    "#Make the d2 with timedelta of 365 periods:\n",
    "d2 = (today - timedelta(days=365)).strftime(\"%Y-%m-%d\")\n",
    "d2\n",
    "\n",
    "start_date = d2\n",
    "end_date = d1\n",
    "\n",
    "#Define the ticker keys words:\n",
    "tickerSymbol = \"TSLA\"\n",
    "tickerData = yf.Ticker(tickerSymbol)\n",
    "tickerData\n",
    "\n",
    "tickerDf = tickerData.history(period=\"1d\", start = start_date, end = end_date)\n",
    "#Get the last closing price of this ticker:\n",
    "#tickerDf['Close'].iloc[-1]\n",
    "\n",
    "tickerDf.head()\n",
    "#print(tickerDf.shape)"
   ]
  },
  {
   "cell_type": "markdown",
   "metadata": {},
   "source": [
    "## Meta data scrapping"
   ]
  },
  {
   "cell_type": "code",
   "execution_count": 23,
   "metadata": {},
   "outputs": [],
   "source": [
    "today = date.today()\n",
    "d1 = today.strftime(\"%Y-%m-%d\")\n",
    "d1\n",
    "\n",
    "#Make the d2 with timedelta of 365 periods:\n",
    "d2 = (today - timedelta(days=365)).strftime(\"%Y-%m-%d\")\n",
    "d2\n",
    "\n",
    "start_date = d2\n",
    "end_date = d1\n",
    "\n",
    "#Define the ticker keys words:\n",
    "tickerSymbol = \"META\"\n",
    "tickerData = yf.Ticker(tickerSymbol)\n",
    "tickerData\n",
    "\n",
    "tickerDf = tickerData.history(period=\"1d\", start = start_date, end = end_date)\n",
    "#Get the last closing price of this ticker:\n",
    "#tickerDf['Close'].iloc[-1]\n",
    "\n",
    "tickerDf.head()\n",
    "#Save the data:\n",
    "tickerDf.to_csv('Meta.csv')"
   ]
  },
  {
   "cell_type": "code",
   "execution_count": null,
   "metadata": {},
   "outputs": [],
   "source": []
  }
 ],
 "metadata": {
  "kernelspec": {
   "display_name": "webscrapping",
   "language": "python",
   "name": "python3"
  },
  "language_info": {
   "codemirror_mode": {
    "name": "ipython",
    "version": 3
   },
   "file_extension": ".py",
   "mimetype": "text/x-python",
   "name": "python",
   "nbconvert_exporter": "python",
   "pygments_lexer": "ipython3",
   "version": "3.11.9"
  }
 },
 "nbformat": 4,
 "nbformat_minor": 2
}
